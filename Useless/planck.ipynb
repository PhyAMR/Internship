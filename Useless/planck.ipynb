version https://git-lfs.github.com/spec/v1
oid sha256:ff7b8a1c157462b993ecc6ea382bb014b14524260d8979f42c0f0d7abbf50308
size 8665061
